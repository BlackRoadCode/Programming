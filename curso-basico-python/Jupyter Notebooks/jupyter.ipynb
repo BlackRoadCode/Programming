{
 "cells": [
  {
   "cell_type": "markdown",
   "metadata": {},
   "source": [
    "## Un título en Markdown"
   ]
  },
  {
   "cell_type": "code",
   "execution_count": 14,
   "metadata": {},
   "outputs": [],
   "source": [
    "import math\n",
    "variable = 10\n",
    "texto = \"Hola putos!\""
   ]
  },
  {
   "cell_type": "markdown",
   "metadata": {},
   "source": [
    " otro texto másotro texto másotro texto másotro texto másotro texto másotro texto másotro texto másotro texto másotro texto másotro texto másotro texto másotro texto másotro texto másotro texto másotro texto másotro texto másotro texto másotro texto másotro texto másotro texto másotro texto másotro texto másotro texto másotro texto másotro texto másotro texto másotro texto másotro texto másotro texto másotro texto másotro texto másotro texto másotro texto másotro texto másotro texto másotro texto másotro texto másotro texto másotro texto másotro texto másotro texto másotro texto másotro texto másotro texto másotro texto más"
   ]
  },
  {
   "cell_type": "code",
   "execution_count": 16,
   "metadata": {},
   "outputs": [
    {
     "name": "stdout",
     "output_type": "stream",
     "text": [
      "10\n",
      "Hola putos!\n",
      "3.0\n"
     ]
    }
   ],
   "source": [
    "print(variable)\n",
    "print(texto)\n",
    "print(math.sqrt(9))"
   ]
  }
 ],
 "metadata": {
  "interpreter": {
   "hash": "caa3e6a751563aaaf12ac10a9ceb101e94742914cff7a05aabdad8a19026f674"
  },
  "kernelspec": {
   "display_name": "Python 3.10.0 64-bit",
   "name": "python3"
  },
  "language_info": {
   "codemirror_mode": {
    "name": "ipython",
    "version": 3
   },
   "file_extension": ".py",
   "mimetype": "text/x-python",
   "name": "python",
   "nbconvert_exporter": "python",
   "pygments_lexer": "ipython3",
   "version": "3.10.0"
  },
  "orig_nbformat": 4
 },
 "nbformat": 4,
 "nbformat_minor": 2
}
